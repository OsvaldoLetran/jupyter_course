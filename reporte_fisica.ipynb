{
 "cells": [
  {
   "cell_type": "code",
   "execution_count": 1,
   "metadata": {},
   "outputs": [],
   "source": [
    "# Importamos librerias que vamos a utilizar\n",
    "import matplotlib.pyplot as plt\n",
    "import numpy as np\n",
    "from  scipy.optimize import curve_fit\n",
    "import sympy as sym\n",
    "from sympy import init_printing\n",
    "\n",
    "# Colocamos los dato originales:\n",
    "\n",
    "Modos = [1,2,3,4,5,6,7,8,9]\n",
    "Fuerza = [4.3, 1.5, 0.85, 0.5, 0.4, 0.3, 0.25, 0.2, 0.15]\n",
    "Incerteza = [0.1, 0.05, 0.05, 0.05, 0.05, 0.05, 0.05, 0.05, 0.05]"
   ]
  },
  {
   "cell_type": "code",
   "execution_count": 2,
   "metadata": {},
   "outputs": [
    {
     "name": "stdout",
     "output_type": "stream",
     "text": [
      "[1.0, 0.25, 0.1111111111111111, 0.0625, 0.04, 0.027777777777777776, 0.02040816326530612, 0.015625, 0.012345679012345678]\n"
     ]
    }
   ],
   "source": [
    "# Modificamos los datos que sean necesarios\n",
    "Modos_1 = []\n",
    "for Modo in Modos:\n",
    "    Modos_1.append(1/(Modo**2))\n",
    "\n",
    "# Podemos verificar como quedan los datos:\n",
    "print(Modos_1)"
   ]
  },
  {
   "cell_type": "code",
   "execution_count": 3,
   "metadata": {},
   "outputs": [],
   "source": [
    "# tenemos que definir algunas constantes\n",
    "L = 1.75 #Longitud de vibración [m]\n",
    "dL = 0.01 #Error de la longitud de vibración\n",
    "\n",
    "Lt = 2.97 #Longitud total de la cuerda [m]\n",
    "dLt = 0.01 #Error de la longitud total de la cuerda\n",
    "\n",
    "Masa = 0.0037 #Masa de la cuerda\n",
    "dMasa = 0.0001 #Error de la masa\n",
    "\n",
    "Mu = Masa/Lt #densidad lineal de la cuerda"
   ]
  },
  {
   "cell_type": "markdown",
   "metadata": {},
   "source": [
    "DERIVADA para calcular error lo más optimo es utilizar la formula, sea $f(a,b,c)$ definimos la incerteza como:\n",
    "\n",
    "$$\\Delta f(a,b,c) = \\Delta a | \\frac{\\partial f}{\\partial a} | + \\Delta b | \\frac{\\partial f}{\\partial b} | + \\Delta c | \\frac{\\partial f}{\\partial c} | $$"
   ]
  },
  {
   "cell_type": "code",
   "execution_count": 4,
   "metadata": {},
   "outputs": [
    {
     "data": {
      "text/latex": [
       "$\\displaystyle \\left|{\\frac{a}{b^{2}}}\\right| + \\frac{1}{\\left|{b}\\right|}$"
      ],
      "text/plain": [
       "Abs(a/b**2) + 1/Abs(b)"
      ]
     },
     "execution_count": 4,
     "metadata": {},
     "output_type": "execute_result"
    }
   ],
   "source": [
    "#Para calcular la incerteza de la densidad lineal:\n",
    "a,b = sym.symbols('a b')\n",
    "abs(sym.diff(a/b,a)) + abs(sym.diff(a/b,b))"
   ]
  },
  {
   "cell_type": "code",
   "execution_count": 5,
   "metadata": {},
   "outputs": [
    {
     "name": "stdout",
     "output_type": "stream",
     "text": [
      "0.0012457912457912459 +/- 0.0033670453128365587\n"
     ]
    }
   ],
   "source": [
    "dMu = dMasa*(Masa/(Lt**2)) + dLt*(1/Lt)\n",
    "print(Mu,'+/-',dMu)"
   ]
  },
  {
   "cell_type": "markdown",
   "metadata": {},
   "source": [
    "Modelo inicial\n",
    "\n",
    "$$ F = 4 \\mu L_v^2 f^2 \\frac{1}{n^2} $$"
   ]
  },
  {
   "cell_type": "code",
   "execution_count": 6,
   "metadata": {},
   "outputs": [],
   "source": [
    "# Definimos una función para hacer el modelo sencillo\n",
    "def funcion (x,f):\n",
    "    F = 4*Mu*x*(np.power((L*f),2))\n",
    "    return F"
   ]
  },
  {
   "cell_type": "code",
   "execution_count": 7,
   "metadata": {},
   "outputs": [
    {
     "data": {
      "text/plain": [
       "array([17.11242057])"
      ]
     },
     "execution_count": 7,
     "metadata": {},
     "output_type": "execute_result"
    }
   ],
   "source": [
    "fit, cov = curve_fit(funcion,Modos_1,Fuerza )\n",
    "fit #frecuencia array"
   ]
  },
  {
   "cell_type": "code",
   "execution_count": 8,
   "metadata": {},
   "outputs": [
    {
     "data": {
      "text/plain": [
       "array([[0.20316096]])"
      ]
     },
     "execution_count": 8,
     "metadata": {},
     "output_type": "execute_result"
    }
   ],
   "source": [
    "cov #error de frecuencia"
   ]
  },
  {
   "cell_type": "code",
   "execution_count": 9,
   "metadata": {},
   "outputs": [
    {
     "data": {
      "image/png": "[encoded data removed]",
      "text/plain": [
       "<Figure size 640x480 with 1 Axes>"
      ]
     },
     "metadata": {},
     "output_type": "display_data"
    }
   ],
   "source": [
    "# Hacemos fit para el parametro f\n",
    "fig, ax = plt.subplots()\n",
    "ax.plot(np.array(Modos_1), funcion(np.array(Modos_1), *fit),'g-')\n",
    "ax.scatter(Modos_1,Fuerza)\n",
    "ax.set(xlabel = 'Modos de vibración', ylabel = 'Fuerza [N]')\n",
    "plt.show()"
   ]
  }
 ],
 "metadata": {
  "kernelspec": {
   "display_name": "Python 3 (ipykernel)",
   "language": "python",
   "name": "python3"
  },
  "language_info": {
   "codemirror_mode": {
    "name": "ipython",
    "version": 3
   },
   "file_extension": ".py",
   "mimetype": "text/x-python",
   "name": "python",
   "nbconvert_exporter": "python",
   "pygments_lexer": "ipython3",
   "version": "3.9.13"
  }
 },
 "nbformat": 4,
 "nbformat_minor": 2
}
